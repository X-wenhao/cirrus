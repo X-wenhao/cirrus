{
 "cells": [
  {
   "cell_type": "markdown",
   "metadata": {},
   "source": [
    "# Logistic Regression\n",
    "---\n",
    "This notebook uses Cirrus to run logistic regression on the Criteo dataset."
   ]
  },
  {
   "cell_type": "markdown",
   "metadata": {},
   "source": [
    "## Setup\n",
    "---"
   ]
  },
  {
   "cell_type": "code",
   "execution_count": 1,
   "metadata": {},
   "outputs": [],
   "source": [
    "# To ease development, each time a cell is run, all modules will be reloaded.\n",
    "%load_ext autoreload\n",
    "%autoreload 2"
   ]
  },
  {
   "cell_type": "code",
   "execution_count": 2,
   "metadata": {},
   "outputs": [],
   "source": [
    "import logging\n",
    "import sys\n",
    "import atexit"
   ]
  },
  {
   "cell_type": "code",
   "execution_count": 3,
   "metadata": {},
   "outputs": [
    {
     "name": "stderr",
     "output_type": "stream",
     "text": [
      "/home/tkice/anaconda3/envs/cirrus_env_2.7/lib/python2.7/site-packages/cryptography/__init__.py:39: CryptographyDeprecationWarning: Python 2 is no longer supported by the Python core team. Support for it is now deprecated in cryptography, and will be removed in a future release.\n",
      "  CryptographyDeprecationWarning,\n"
     ]
    },
    {
     "name": "stdout",
     "output_type": "stream",
     "text": [
      "[     _initialize | ResourceManager] Initializing Lambda client.\n",
      "[     _initialize | ResourceManager] Initializing no-retries Lambda client.\n",
      "[     _initialize | ResourceManager] Initializing IAM resource.\n",
      "[     _initialize | ResourceManager] Initializing EC2 resource.\n",
      "[     _initialize | ResourceManager] Initializing Cloudwatch Logs client.\n",
      "[     _initialize | ResourceManager] Initializing S3 resource.\n",
      "[     _initialize | ResourceManager] Initializing STS client.\n"
     ]
    }
   ],
   "source": [
    "# Cirrus produces logs, but they will not show unless we add a handler that prints.\n",
    "from cirrus import utilities\n",
    "utilities.set_logging_handler()"
   ]
  },
  {
   "cell_type": "code",
   "execution_count": 4,
   "metadata": {},
   "outputs": [],
   "source": [
    "from cirrus import instance, parameter_server, automate, lr"
   ]
  },
  {
   "cell_type": "markdown",
   "metadata": {},
   "source": [
    "## Instance, server, and task\n",
    "---"
   ]
  },
  {
   "cell_type": "markdown",
   "metadata": {},
   "source": [
    "First, we start an EC2 instance."
   ]
  },
  {
   "cell_type": "code",
   "execution_count": 5,
   "metadata": {},
   "outputs": [
    {
     "name": "stdout",
     "output_type": "stream",
     "text": [
      "[        __init__ |      MainThread] Resolving AMI owner/name to AMI ID.\n",
      "[        __init__ |      MainThread] Done.\n",
      "[         _exists |      MainThread] Listing instances.\n",
      "[         _exists |      MainThread] No existing instance with the same name was found.\n",
      "[ _start_and_wait |      MainThread] Starting a new instance.\n",
      "[ _start_and_wait |      MainThread] Waiting for instance to enter running state.\n",
      "[ _start_and_wait |      MainThread] Fetching instance metadata.\n",
      "[ _start_and_wait |      MainThread] Done.\n",
      "[           start |      MainThread] Done.\n"
     ]
    }
   ],
   "source": [
    "inst = instance.Instance(\n",
    "    name=\"lr_example_instance\",\n",
    "    disk_size=32,\n",
    "    typ=\"m4.2xlarge\",\n",
    "    username=\"ubuntu\",\n",
    "    ami_owner_name=(\"self\", \"cirrus_server_image\")\n",
    ")\n",
    "inst.start()"
   ]
  },
  {
   "cell_type": "markdown",
   "metadata": {},
   "source": [
    "Second, we create a parameter server to run on our instance."
   ]
  },
  {
   "cell_type": "code",
   "execution_count": 6,
   "metadata": {},
   "outputs": [],
   "source": [
    "server = parameter_server.ParameterServer(\n",
    "    instance=inst,\n",
    "    ps_port=1337,\n",
    "    error_port=1338,\n",
    "    num_workers=64\n",
    ")"
   ]
  },
  {
   "cell_type": "markdown",
   "metadata": {},
   "source": [
    "Third, we define our machine learning task."
   ]
  },
  {
   "cell_type": "code",
   "execution_count": 7,
   "metadata": {},
   "outputs": [],
   "source": [
    "task = lr.LogisticRegression(\n",
    "    n_workers=10,\n",
    "    n_ps=1,\n",
    "    dataset=\"criteo-kaggle-19b\",\n",
    "    learning_rate=0.0001,\n",
    "    epsilon=0.0001,\n",
    "    progress_callback=None,\n",
    "    train_set=(0, 799),\n",
    "    test_set=(800, 850),\n",
    "    minibatch_size=200,\n",
    "    model_bits=19,\n",
    "    ps=server,\n",
    "    opt_method=\"adagrad\",\n",
    "    timeout=60,\n",
    "    lambda_size=192\n",
    ")"
   ]
  },
  {
   "cell_type": "markdown",
   "metadata": {},
   "source": [
    "## Run\n",
    "---"
   ]
  },
  {
   "cell_type": "markdown",
   "metadata": {},
   "source": [
    "Next, we run our machine learning task."
   ]
  },
  {
   "cell_type": "code",
   "execution_count": 8,
   "metadata": {},
   "outputs": [
    {
     "name": "stdout",
     "output_type": "stream",
     "text": [
      "[           start |      MainThread] Uploading configuration.\n",
      "[     run_command |      MainThread] Calling _connect_ssh.\n",
      "[    _connect_ssh |      MainThread] Configuring.\n",
      "[    _connect_ssh |      MainThread] Making connection attempt #1 out of 35.\n"
     ]
    },
    {
     "name": "stderr",
     "output_type": "stream",
     "text": [
      "/home/tkice/anaconda3/envs/cirrus_env_2.7/lib/python2.7/site-packages/paramiko/kex_ecdh_nist.py:39: CryptographyDeprecationWarning:\n",
      "\n",
      "encode_point has been deprecated on EllipticCurvePublicNumbers and will be removed in a future version. Please use EllipticCurvePublicKey.public_bytes to obtain both compressed and uncompressed point encoding.\n",
      "\n",
      "/home/tkice/anaconda3/envs/cirrus_env_2.7/lib/python2.7/site-packages/paramiko/kex_ecdh_nist.py:96: CryptographyDeprecationWarning:\n",
      "\n",
      "Support for unsafe construction of public numbers from encoded data will be removed in a future version. Please use EllipticCurvePublicKey.from_encoded_point\n",
      "\n",
      "/home/tkice/anaconda3/envs/cirrus_env_2.7/lib/python2.7/site-packages/paramiko/kex_ecdh_nist.py:111: CryptographyDeprecationWarning:\n",
      "\n",
      "encode_point has been deprecated on EllipticCurvePublicNumbers and will be removed in a future version. Please use EllipticCurvePublicKey.public_bytes to obtain both compressed and uncompressed point encoding.\n",
      "\n"
     ]
    },
    {
     "name": "stdout",
     "output_type": "stream",
     "text": [
      "[     run_command |      MainThread] Running `echo 'load_input_path: /mnt/efs/criteo_kaggle/train.csv \n",
      "load_input_type: csv\n",
      "dataset_format: binary\n",
      "num_classes: 2 \n",
      "num_features: 13 \n",
      "limit_cols: 14 \n",
      "normalize: 0 \n",
      "limit_samples: 10000 \n",
      "s3_size: 50000 \n",
      "use_bias: 1 \n",
      "model_type: LogisticRegression \n",
      "minibatch_size: 200 \n",
      "learning_rate: 0.000100 \n",
      "epsilon: 0.000100 \n",
      "model_bits: 19 \n",
      "s3_bucket: criteo-kaggle-19b \n",
      "use_grad_threshold: 0 \n",
      "grad_threshold: 0.001000 \n",
      "train_set: 0-799 \n",
      "test_set: 800-850' > config_1337.txt`.\n",
      "[     run_command |      MainThread] Waiting for completion.\n",
      "[     run_command |      MainThread] Fetching stdout and stderr.\n",
      "[     run_command |      MainThread] stdout had length 0.\n",
      "[     run_command |      MainThread] stderr had length 0.\n",
      "[     run_command |      MainThread] Exit code was 0.\n",
      "[     run_command |      MainThread] Done.\n",
      "[           start |      MainThread] Starting parameter server.\n",
      "[     run_command |      MainThread] Running `ulimit -c unlimited; nohup ./parameter_server --config config_1337.txt --nworkers 64 --rank 1 --ps_port 1337 &> ps_out_1337 & echo $! > ps_1337.pid`.\n",
      "[     run_command |      MainThread] Waiting for completion.\n",
      "[     run_command |      MainThread] Fetching stdout and stderr.\n",
      "[     run_command |      MainThread] stdout had length 0.\n",
      "[     run_command |      MainThread] stderr had length 0.\n",
      "[     run_command |      MainThread] Exit code was 0.\n",
      "[     run_command |      MainThread] Done.\n",
      "[           start |      MainThread] Starting error task.\n",
      "[     run_command |      MainThread] Running `ulimit -c unlimited; nohup ./parameter_server --config config_1337.txt --nworkers 64 --rank 2 --ps_ip 172.31.5.28 --ps_port 1337 &> error_out_1337 & echo $! > error_1337.pid`.\n",
      "[     run_command |      MainThread] Waiting for completion.\n",
      "[     run_command |      MainThread] Fetching stdout and stderr.\n",
      "[     run_command |      MainThread] stdout had length 0.\n",
      "[     run_command |      MainThread] stderr had length 0.\n",
      "[     run_command |      MainThread] Exit code was 0.\n",
      "[     run_command |      MainThread] Done.\n",
      "[wait_until_started |        Thread-7] Making connection attempt #1 to ParameterServer@54.213.183.195:1337.\n",
      "[wait_until_started |        Thread-7] ParameterServer@54.213.183.195:1337 launched.\n",
      "[     make_lambda |        Thread-7] Deleting any existing Lambda.\n",
      "[     make_lambda |        Thread-7] Copying package to user's bucket.\n",
      "[ get_bucket_name |        Thread-7] Retreiving account ID.\n",
      "[     make_lambda |        Thread-7] Creating Lambda.\n",
      "[     make_lambda |        Thread-7] Allocating reserved concurrent executions to the Lambda.\n",
      "[     make_lambda |        Thread-7] Done.\n",
      "[           new_f | Exp #00 Wkr #00] jittery_exponential_backoff: Making attempt #1.\n",
      "[   launch_worker | Exp #00 Wkr #00] Launching Task 0.\n",
      "[           new_f | Exp #00 Wkr #02] jittery_exponential_backoff: Making attempt #1.\n",
      "[           new_f | Exp #00 Wkr #01] jittery_exponential_backoff: Making attempt #1.\n",
      "[   launch_worker | Exp #00 Wkr #01] Launching Task 10000.\n",
      "[           new_f | Exp #00 Wkr #04] jittery_exponential_backoff: Making attempt #1.\n",
      "[           new_f | Exp #00 Wkr #05] jittery_exponential_backoff: Making attempt #1.\n",
      "[           new_f | Exp #00 Wkr #06] jittery_exponential_backoff: Making attempt #1.\n",
      "[   launch_worker | Exp #00 Wkr #02] Launching Task 20000.\n",
      "[   launch_worker | Exp #00 Wkr #06] Launching Task 60000.\n",
      "[           new_f | Exp #00 Wkr #08] jittery_exponential_backoff: Making attempt #1.\n",
      "[           new_f | Exp #00 Wkr #09] jittery_exponential_backoff: Making attempt #1.\n",
      "[           new_f | Exp #00 Wkr #03] jittery_exponential_backoff: Making attempt #1.\n",
      "[   launch_worker | Exp #00 Wkr #04] Launching Task 40000.\n",
      "[   launch_worker | Exp #00 Wkr #05] Launching Task 50000.\n",
      "[           new_f | Exp #00 Wkr #07] jittery_exponential_backoff: Making attempt #1.\n",
      "[   launch_worker | Exp #00 Wkr #08] Launching Task 80000.\n",
      "[   launch_worker | Exp #00 Wkr #09] Launching Task 90000.\n",
      "[   launch_worker | Exp #00 Wkr #03] Launching Task 30000.\n",
      "[   launch_worker | Exp #00 Wkr #07] Launching Task 70000.\n",
      "[   launch_worker | Exp #00 Wkr #09] Task 90000 completed with status code 200.\n",
      "[   launch_worker | Exp #00 Wkr #02] Task 20000 completed with status code 200.\n",
      "[   launch_worker | Exp #00 Wkr #01] Task 10000 completed with status code 200.\n",
      "[   launch_worker | Exp #00 Wkr #05] Task 50000 completed with status code 200.\n",
      "[   launch_worker | Exp #00 Wkr #07] Task 70000 completed with status code 200.\n",
      "[   launch_worker | Exp #00 Wkr #04] Task 40000 completed with status code 200.\n",
      "[   launch_worker | Exp #00 Wkr #06] Task 60000 completed with status code 200.\n",
      "[   launch_worker | Exp #00 Wkr #08] Task 80000 completed with status code 200.\n",
      "[   launch_worker | Exp #00 Wkr #03] Task 30000 completed with status code 200.\n",
      "[   launch_worker | Exp #00 Wkr #00] Task 0 completed with status code 200.\n",
      "[           new_f | Exp #00 Wkr #02] jittery_exponential_backoff: Making attempt #1.\n",
      "[           new_f | Exp #00 Wkr #01] jittery_exponential_backoff: Making attempt #1.\n",
      "[           new_f | Exp #00 Wkr #00] jittery_exponential_backoff: Making attempt #1.\n",
      "[   launch_worker | Exp #00 Wkr #02] Launching Task 20001.\n",
      "[   launch_worker | Exp #00 Wkr #01] Launching Task 10001.\n",
      "[           new_f | Exp #00 Wkr #04] jittery_exponential_backoff: Making attempt #1.\n",
      "[           new_f | Exp #00 Wkr #03] jittery_exponential_backoff: Making attempt #1.\n",
      "[           new_f | Exp #00 Wkr #05] jittery_exponential_backoff: Making attempt #1.\n",
      "[           new_f | Exp #00 Wkr #09] jittery_exponential_backoff: Making attempt #1.\n",
      "[           new_f | Exp #00 Wkr #06] jittery_exponential_backoff: Making attempt #1.\n",
      "[           new_f | Exp #00 Wkr #08] jittery_exponential_backoff: Making attempt #1.\n",
      "[           new_f | Exp #00 Wkr #07] jittery_exponential_backoff: Making attempt #1.\n",
      "[   launch_worker | Exp #00 Wkr #04] Launching Task 40001.\n",
      "[   launch_worker | Exp #00 Wkr #03] Launching Task 30001.\n",
      "[   launch_worker | Exp #00 Wkr #00] Launching Task 1.\n",
      "[   launch_worker | Exp #00 Wkr #05] Launching Task 50001.\n",
      "[   launch_worker | Exp #00 Wkr #09] Launching Task 90001.\n",
      "[   launch_worker | Exp #00 Wkr #06] Launching Task 60001.\n",
      "[   launch_worker | Exp #00 Wkr #08] Launching Task 80001.\n",
      "[   launch_worker | Exp #00 Wkr #07] Launching Task 70001.\n"
     ]
    }
   ],
   "source": [
    "task.run()"
   ]
  },
  {
   "cell_type": "markdown",
   "metadata": {},
   "source": [
    "Run this cell to see the present accuracy of the model."
   ]
  },
  {
   "cell_type": "code",
   "execution_count": 9,
   "metadata": {},
   "outputs": [
    {
     "name": "stdout",
     "output_type": "stream",
     "text": [
      "[     run_command |      MainThread] Running `cat error_out_1337`.\n",
      "[     run_command |      MainThread] Waiting for completion.\n",
      "[     run_command |      MainThread] Fetching stdout and stderr.\n",
      "[   launch_worker | Exp #00 Wkr #03] Task 30001 completed with status code 200.\n",
      "[   launch_worker | Exp #00 Wkr #09] Task 90001 completed with status code 200.\n",
      "[   launch_worker | Exp #00 Wkr #04] Task 40001 completed with status code 200.\n",
      "[   launch_worker | Exp #00 Wkr #00] Task 1 completed with status code 200.\n",
      "[     run_command |      MainThread] stdout had length 13084.\n",
      "[     run_command |      MainThread] stderr had length 0.\n",
      "[     run_command |      MainThread] Exit code was 0.\n",
      "[     run_command |      MainThread] Done.\n",
      "[ERROR_TASK] Loss (Total/Avg): 1.7328e+06/0.693122 Accuracy: 0.700458 time(us): 1597050917310826 time from start (sec): 15.3184\n",
      "[ERROR_TASK] Loss (Total/Avg): 1.7328e+06/0.693122 Accuracy: 0.700458 time(us): 1597050919924366 time from start (sec): 17.932\n",
      "[   launch_worker | Exp #00 Wkr #07] Task 70001 completed with status code 200.\n",
      "[   launch_worker | Exp #00 Wkr #08] Task 80001 completed with status code 200.\n",
      "[   launch_worker | Exp #00 Wkr #01] Task 10001 completed with status code 200.\n",
      "[   launch_worker | Exp #00 Wkr #05] Task 50001 completed with status code 200.\n",
      "[   launch_worker | Exp #00 Wkr #06] Task 60001 completed with status code 200.\n",
      "[   launch_worker | Exp #00 Wkr #02] Task 20001 completed with status code 200.\n"
     ]
    }
   ],
   "source": [
    "for line in server.error_output().split(\"\\n\")[-10:]:\n",
    "    if \"Accuracy\" in line:\n",
    "        print(line)"
   ]
  },
  {
   "cell_type": "markdown",
   "metadata": {},
   "source": [
    "## Cleanup\n",
    "---"
   ]
  },
  {
   "cell_type": "markdown",
   "metadata": {},
   "source": [
    "When we're satisfied with the results, we kill our task."
   ]
  },
  {
   "cell_type": "code",
   "execution_count": 10,
   "metadata": {},
   "outputs": [
    {
     "name": "stdout",
     "output_type": "stream",
     "text": [
      "[     run_command |      MainThread] Running `kill -n 9 $(cat error_1337.pid)`.\n",
      "[   delete_lambda | Exp #00 Cleanup] Deleting Lambda function cirrus_worker_0_2020-8-10_2-14-49-268737.\n",
      "[     run_command |      MainThread] Waiting for completion.\n",
      "[     run_command |      MainThread] Fetching stdout and stderr.\n",
      "[     run_command |      MainThread] stdout had length 0.\n",
      "[     run_command |      MainThread] stderr had length 0.\n",
      "[     run_command |      MainThread] Exit code was 0.\n",
      "[     run_command |      MainThread] Done.\n",
      "[     run_command |      MainThread] Running `kill -n 9 $(cat ps_1337.pid)`.\n",
      "[     run_command |      MainThread] Waiting for completion.\n",
      "[     run_command |      MainThread] Fetching stdout and stderr.\n",
      "[     run_command |      MainThread] stdout had length 0.\n",
      "[     run_command |      MainThread] stderr had length 0.\n",
      "[     run_command |      MainThread] Exit code was 0.\n",
      "[     run_command |      MainThread] Done.\n"
     ]
    }
   ],
   "source": [
    "task.kill()"
   ]
  },
  {
   "cell_type": "markdown",
   "metadata": {},
   "source": [
    "We also need to terminate our instance in order to avoid continuing charges."
   ]
  },
  {
   "cell_type": "code",
   "execution_count": 11,
   "metadata": {},
   "outputs": [
    {
     "name": "stdout",
     "output_type": "stream",
     "text": [
      "[         cleanup |      MainThread] Closing SSH client.\n",
      "[         cleanup |      MainThread] Terminating instance.\n",
      "[         cleanup |      MainThread] Waiting for instance to terminate.\n",
      "[         cleanup |      MainThread] Done.\n"
     ]
    }
   ],
   "source": [
    "inst.cleanup()"
   ]
  },
  {
   "cell_type": "code",
   "execution_count": null,
   "metadata": {},
   "outputs": [],
   "source": []
  }
 ],
 "metadata": {
  "kernelspec": {
   "display_name": "Python 2",
   "language": "python",
   "name": "python2"
  },
  "language_info": {
   "codemirror_mode": {
    "name": "ipython",
    "version": 2
   },
   "file_extension": ".py",
   "mimetype": "text/x-python",
   "name": "python",
   "nbconvert_exporter": "python",
   "pygments_lexer": "ipython2",
   "version": "2.7.18"
  }
 },
 "nbformat": 4,
 "nbformat_minor": 2
}
