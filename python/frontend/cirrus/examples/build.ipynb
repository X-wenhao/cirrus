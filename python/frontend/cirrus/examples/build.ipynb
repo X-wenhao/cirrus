{
 "cells": [
  {
   "cell_type": "markdown",
   "metadata": {},
   "source": [
    "# Build\n",
    "---\n",
    "This notebook builds Cirrus. It is mainly intended for use by Cirrus developers to push a new version of the software."
   ]
  },
  {
   "cell_type": "markdown",
   "metadata": {},
   "source": [
    "## Setup\n",
    "---"
   ]
  },
  {
   "cell_type": "code",
   "execution_count": 1,
   "metadata": {},
   "outputs": [],
   "source": [
    "# To ease development, each time a cell is run, all modules will be reloaded.\n",
    "%load_ext autoreload\n",
    "%autoreload 2"
   ]
  },
  {
   "cell_type": "code",
   "execution_count": 2,
   "metadata": {},
   "outputs": [],
   "source": [
    "import logging\n",
    "import sys\n",
    "import atexit\n",
    "import subprocess"
   ]
  },
  {
   "cell_type": "code",
   "execution_count": 3,
   "metadata": {},
   "outputs": [
    {
     "name": "stderr",
     "output_type": "stream",
     "text": [
      "/home/tkice/anaconda3/envs/cirrus_env_2.7/lib/python2.7/site-packages/cryptography/__init__.py:39: CryptographyDeprecationWarning: Python 2 is no longer supported by the Python core team. Support for it is now deprecated in cryptography, and will be removed in a future release.\n",
      "  CryptographyDeprecationWarning,\n"
     ]
    },
    {
     "name": "stdout",
     "output_type": "stream",
     "text": [
      "[     _initialize | ResourceManager] Initializing Lambda client.\n",
      "[     _initialize | ResourceManager] Initializing no-retries Lambda client.\n",
      "[     _initialize | ResourceManager] Initializing IAM resource.\n",
      "[     _initialize | ResourceManager] Initializing EC2 resource.\n",
      "[     _initialize | ResourceManager] Initializing Cloudwatch Logs client.\n",
      "[     _initialize | ResourceManager] Initializing S3 resource.\n",
      "[     _initialize | ResourceManager] Initializing STS client.\n"
     ]
    }
   ],
   "source": [
    "# Cirrus produces logs. Here we enable printing them in the notebook\n",
    "from cirrus import utilities\n",
    "utilities.set_logging_handler()"
   ]
  },
  {
   "cell_type": "code",
   "execution_count": 4,
   "metadata": {},
   "outputs": [],
   "source": [
    "from cirrus import automate\n",
    "from cirrus import setup"
   ]
  },
  {
   "cell_type": "markdown",
   "metadata": {},
   "source": [
    "## Ubuntu (parameter server)\n",
    "---\n",
    "Cirrus parameter server is optimized for Ubuntu. In this section we create an executable for the parameter server."
   ]
  },
  {
   "cell_type": "markdown",
   "metadata": {},
   "source": [
    "### Build image\n",
    "First, we create a \"build image\", which is an AMI on which we've set up the proper environment for building Cirrus. Making the build image is separated from making the executables because the build image will rarely need to be remade, whereas the executables will need to be remade for each new version of the system."
   ]
  },
  {
   "cell_type": "code",
   "execution_count": 6,
   "metadata": {
    "scrolled": true
   },
   "outputs": [
    {
     "name": "stdout",
     "output_type": "stream",
     "text": [
      "[make_ubuntu_build_image |      MainThread] Deleting any existing images with the same name.\n",
      "[   delete_images |      MainThread] Describing images.\n",
      "[   delete_images |      MainThread] Deleting image ami-07de2cca76f293313.\n",
      "[   delete_images |      MainThread] Done.\n",
      "[make_ubuntu_build_image |      MainThread] Launching an instance.\n",
      "[        __init__ |      MainThread] Done.\n",
      "[         _exists |      MainThread] Listing instances.\n",
      "[         _exists |      MainThread] No existing instance with the same name was found.\n",
      "[ _start_and_wait |      MainThread] Starting a new instance.\n",
      "[ _start_and_wait |      MainThread] Waiting for instance to enter running state.\n"
     ]
    },
    {
     "ename": "KeyboardInterrupt",
     "evalue": "",
     "output_type": "error",
     "traceback": [
      "\u001b[0;31m---------------------------------------------------------------------------\u001b[0m",
      "\u001b[0;31mKeyboardInterrupt\u001b[0m                         Traceback (most recent call last)",
      "\u001b[0;32m<ipython-input-6-0ce72feee1ce>\u001b[0m in \u001b[0;36m<module>\u001b[0;34m()\u001b[0m\n\u001b[0;32m----> 1\u001b[0;31m \u001b[0mautomate\u001b[0m\u001b[0;34m.\u001b[0m\u001b[0mmake_ubuntu_build_image\u001b[0m\u001b[0;34m(\u001b[0m\u001b[0;34m\"cirrus_ubuntu_build_image\"\u001b[0m\u001b[0;34m)\u001b[0m\u001b[0;34m\u001b[0m\u001b[0m\n\u001b[0m",
      "\u001b[0;32m/home/tkice/windows/Projects/cirrus/python/frontend/cirrus/cirrus/automate.pyc\u001b[0m in \u001b[0;36mmake_ubuntu_build_image\u001b[0;34m(name)\u001b[0m\n\u001b[1;32m    209\u001b[0m                         \u001b[0mtyp\u001b[0m\u001b[0;34m=\u001b[0m\u001b[0mBUILD_INSTANCE_TYPE\u001b[0m\u001b[0;34m,\u001b[0m\u001b[0;34m\u001b[0m\u001b[0m\n\u001b[1;32m    210\u001b[0m                         username=\"ubuntu\")\n\u001b[0;32m--> 211\u001b[0;31m     \u001b[0minstance\u001b[0m\u001b[0;34m.\u001b[0m\u001b[0mstart\u001b[0m\u001b[0;34m(\u001b[0m\u001b[0;34m)\u001b[0m\u001b[0;34m\u001b[0m\u001b[0m\n\u001b[0m\u001b[1;32m    212\u001b[0m \u001b[0;34m\u001b[0m\u001b[0m\n\u001b[1;32m    213\u001b[0m     \u001b[0mlog\u001b[0m\u001b[0;34m.\u001b[0m\u001b[0mdebug\u001b[0m\u001b[0;34m(\u001b[0m\u001b[0;34m\"Setting up the environment.\"\u001b[0m\u001b[0;34m)\u001b[0m\u001b[0;34m\u001b[0m\u001b[0m\n",
      "\u001b[0;32m/home/tkice/windows/Projects/cirrus/python/frontend/cirrus/cirrus/instance.pyc\u001b[0m in \u001b[0;36mstart\u001b[0;34m(self)\u001b[0m\n\u001b[1;32m    366\u001b[0m \u001b[0;34m\u001b[0m\u001b[0m\n\u001b[1;32m    367\u001b[0m         \u001b[0;32mif\u001b[0m \u001b[0;32mnot\u001b[0m \u001b[0mself\u001b[0m\u001b[0;34m.\u001b[0m\u001b[0m_exists\u001b[0m\u001b[0;34m(\u001b[0m\u001b[0;34m)\u001b[0m\u001b[0;34m:\u001b[0m\u001b[0;34m\u001b[0m\u001b[0m\n\u001b[0;32m--> 368\u001b[0;31m             \u001b[0mself\u001b[0m\u001b[0;34m.\u001b[0m\u001b[0m_start_and_wait\u001b[0m\u001b[0;34m(\u001b[0m\u001b[0;34m)\u001b[0m\u001b[0;34m\u001b[0m\u001b[0m\n\u001b[0m\u001b[1;32m    369\u001b[0m             \u001b[0;32mif\u001b[0m \u001b[0mself\u001b[0m\u001b[0;34m.\u001b[0m\u001b[0m_spot_bid\u001b[0m \u001b[0;32mis\u001b[0m \u001b[0;32mnot\u001b[0m \u001b[0mNone\u001b[0m\u001b[0;34m:\u001b[0m\u001b[0;34m\u001b[0m\u001b[0m\n\u001b[1;32m    370\u001b[0m                 \u001b[0mself\u001b[0m\u001b[0;34m.\u001b[0m\u001b[0m_start_termination_monitoring\u001b[0m\u001b[0;34m(\u001b[0m\u001b[0;34m)\u001b[0m\u001b[0;34m\u001b[0m\u001b[0m\n",
      "\u001b[0;32m/home/tkice/windows/Projects/cirrus/python/frontend/cirrus/cirrus/instance.pyc\u001b[0m in \u001b[0;36m_start_and_wait\u001b[0;34m(self)\u001b[0m\n\u001b[1;32m    658\u001b[0m \u001b[0;34m\u001b[0m\u001b[0m\n\u001b[1;32m    659\u001b[0m         \u001b[0mself\u001b[0m\u001b[0;34m.\u001b[0m\u001b[0m_log\u001b[0m\u001b[0;34m.\u001b[0m\u001b[0mdebug\u001b[0m\u001b[0;34m(\u001b[0m\u001b[0;34m\"Waiting for instance to enter running state.\"\u001b[0m\u001b[0;34m)\u001b[0m\u001b[0;34m\u001b[0m\u001b[0m\n\u001b[0;32m--> 660\u001b[0;31m         \u001b[0mself\u001b[0m\u001b[0;34m.\u001b[0m\u001b[0m_wait_until_state\u001b[0m\u001b[0;34m(\u001b[0m\u001b[0;34m\"running\"\u001b[0m\u001b[0;34m)\u001b[0m\u001b[0;34m\u001b[0m\u001b[0m\n\u001b[0m\u001b[1;32m    661\u001b[0m \u001b[0;34m\u001b[0m\u001b[0m\n\u001b[1;32m    662\u001b[0m         \u001b[0mself\u001b[0m\u001b[0;34m.\u001b[0m\u001b[0m_log\u001b[0m\u001b[0;34m.\u001b[0m\u001b[0mdebug\u001b[0m\u001b[0;34m(\u001b[0m\u001b[0;34m\"Fetching instance metadata.\"\u001b[0m\u001b[0;34m)\u001b[0m\u001b[0;34m\u001b[0m\u001b[0m\n",
      "\u001b[0;32m/home/tkice/windows/Projects/cirrus/python/frontend/cirrus/cirrus/instance.pyc\u001b[0m in \u001b[0;36m_wait_until_state\u001b[0;34m(self, state)\u001b[0m\n\u001b[1;32m    683\u001b[0m             \u001b[0;32mif\u001b[0m \u001b[0mself\u001b[0m\u001b[0;34m.\u001b[0m\u001b[0minstance\u001b[0m\u001b[0;34m.\u001b[0m\u001b[0mstate\u001b[0m\u001b[0;34m[\u001b[0m\u001b[0;34m\"Name\"\u001b[0m\u001b[0;34m]\u001b[0m \u001b[0;34m==\u001b[0m \u001b[0mstate\u001b[0m\u001b[0;34m:\u001b[0m\u001b[0;34m\u001b[0m\u001b[0m\n\u001b[1;32m    684\u001b[0m                 \u001b[0;32mbreak\u001b[0m\u001b[0;34m\u001b[0m\u001b[0m\n\u001b[0;32m--> 685\u001b[0;31m             \u001b[0mtime\u001b[0m\u001b[0;34m.\u001b[0m\u001b[0msleep\u001b[0m\u001b[0;34m(\u001b[0m\u001b[0mself\u001b[0m\u001b[0;34m.\u001b[0m\u001b[0m_RUNNING_POLL_INTERVAL\u001b[0m\u001b[0;34m)\u001b[0m\u001b[0;34m\u001b[0m\u001b[0m\n\u001b[0m\u001b[1;32m    686\u001b[0m         \u001b[0;32melse\u001b[0m\u001b[0;34m:\u001b[0m\u001b[0;34m\u001b[0m\u001b[0m\n\u001b[1;32m    687\u001b[0m             raise RuntimeError(\"Timed out waiting for instance to enter \"\n",
      "\u001b[0;31mKeyboardInterrupt\u001b[0m: "
     ]
    }
   ],
   "source": [
    "automate.make_ubuntu_build_image(\"cirrus_ubuntu_build_image\")"
   ]
  },
  {
   "cell_type": "markdown",
   "metadata": {},
   "source": [
    "### Executables\n",
    "Second, we compile the Cirrus parameter server (using the build image) and publish its executables.\n",
    "\n",
    "The executables are published to the `cirrus-public` S3 bucket."
   ]
  },
  {
   "cell_type": "code",
   "execution_count": 7,
   "metadata": {},
   "outputs": [
    {
     "name": "stdout",
     "output_type": "stream",
     "text": [
      "[make_executables |      MainThread] Launching an instance.\n",
      "[        __init__ |      MainThread] Resolving AMI owner/name to AMI ID.\n"
     ]
    },
    {
     "ename": "RuntimeError",
     "evalue": "No AMIs with the given owner/name were found.",
     "output_type": "error",
     "traceback": [
      "\u001b[0;31m---------------------------------------------------------------------------\u001b[0m",
      "\u001b[0;31mRuntimeError\u001b[0m                              Traceback (most recent call last)",
      "\u001b[0;32m<ipython-input-7-6bb28ae6432f>\u001b[0m in \u001b[0;36m<module>\u001b[0;34m()\u001b[0m\n\u001b[1;32m      2\u001b[0m     \u001b[0msetup\u001b[0m\u001b[0;34m.\u001b[0m\u001b[0mPUBLISHED_BUILD\u001b[0m \u001b[0;34m+\u001b[0m \u001b[0;34m\"/executables/ubuntu\"\u001b[0m\u001b[0;34m,\u001b[0m\u001b[0;34m\u001b[0m\u001b[0m\n\u001b[1;32m      3\u001b[0m     \u001b[0;34m(\u001b[0m\u001b[0;34m\"self\"\u001b[0m\u001b[0;34m,\u001b[0m \u001b[0;34m\"cirrus_ubuntu_build_image\"\u001b[0m\u001b[0;34m)\u001b[0m\u001b[0;34m,\u001b[0m\u001b[0;34m\u001b[0m\u001b[0m\n\u001b[0;32m----> 4\u001b[0;31m     \u001b[0;34m\"ubuntu\"\u001b[0m\u001b[0;34m\u001b[0m\u001b[0m\n\u001b[0m\u001b[1;32m      5\u001b[0m )\n",
      "\u001b[0;32m/home/tkice/windows/Projects/cirrus/python/frontend/cirrus/cirrus/automate.pyc\u001b[0m in \u001b[0;36mmake_executables\u001b[0;34m(path, image_owner_name, username)\u001b[0m\n\u001b[1;32m    257\u001b[0m                         \u001b[0mdisk_size\u001b[0m\u001b[0;34m=\u001b[0m\u001b[0mBUILD_INSTANCE_SIZE\u001b[0m\u001b[0;34m,\u001b[0m\u001b[0;34m\u001b[0m\u001b[0m\n\u001b[1;32m    258\u001b[0m                         \u001b[0mtyp\u001b[0m\u001b[0;34m=\u001b[0m\u001b[0mBUILD_INSTANCE_TYPE\u001b[0m\u001b[0;34m,\u001b[0m\u001b[0;34m\u001b[0m\u001b[0m\n\u001b[0;32m--> 259\u001b[0;31m                         username=username)\n\u001b[0m\u001b[1;32m    260\u001b[0m     \u001b[0minstance\u001b[0m\u001b[0;34m.\u001b[0m\u001b[0mstart\u001b[0m\u001b[0;34m(\u001b[0m\u001b[0;34m)\u001b[0m\u001b[0;34m\u001b[0m\u001b[0m\n\u001b[1;32m    261\u001b[0m \u001b[0;34m\u001b[0m\u001b[0m\n",
      "\u001b[0;32m/home/tkice/windows/Projects/cirrus/python/frontend/cirrus/cirrus/instance.pyc\u001b[0m in \u001b[0;36m__init__\u001b[0;34m(self, name, disk_size, typ, username, ami_id, ami_owner_name, spot_bid)\u001b[0m\n\u001b[1;32m    335\u001b[0m                 \u001b[0mself\u001b[0m\u001b[0;34m.\u001b[0m\u001b[0m_ami_id\u001b[0m \u001b[0;34m=\u001b[0m \u001b[0mresponse\u001b[0m\u001b[0;34m[\u001b[0m\u001b[0;34m\"Images\"\u001b[0m\u001b[0;34m]\u001b[0m\u001b[0;34m[\u001b[0m\u001b[0;36m0\u001b[0m\u001b[0;34m]\u001b[0m\u001b[0;34m[\u001b[0m\u001b[0;34m\"ImageId\"\u001b[0m\u001b[0;34m]\u001b[0m\u001b[0;34m\u001b[0m\u001b[0m\n\u001b[1;32m    336\u001b[0m             \u001b[0;32melse\u001b[0m\u001b[0;34m:\u001b[0m\u001b[0;34m\u001b[0m\u001b[0m\n\u001b[0;32m--> 337\u001b[0;31m                 raise RuntimeError(\"No AMIs with the given owner/name were \"\n\u001b[0m\u001b[1;32m    338\u001b[0m                                    \"found.\")\n\u001b[1;32m    339\u001b[0m         \u001b[0;32melse\u001b[0m\u001b[0;34m:\u001b[0m\u001b[0;34m\u001b[0m\u001b[0m\n",
      "\u001b[0;31mRuntimeError\u001b[0m: No AMIs with the given owner/name were found."
     ]
    }
   ],
   "source": [
    "automate.make_executables(\n",
    "    setup.PUBLISHED_BUILD + \"/executables/ubuntu\",\n",
    "    (\"self\", \"cirrus_ubuntu_build_image\"),\n",
    "    \"ubuntu\"\n",
    ")"
   ]
  },
  {
   "cell_type": "markdown",
   "metadata": {},
   "source": [
    "## Amazon Linux (Lambdas)\n",
    "---\n",
    "AWS Lambdas run on an Amazon Linux image. Here we build the Cirrus binaries that runs on those AWS Lambdas."
   ]
  },
  {
   "cell_type": "markdown",
   "metadata": {},
   "source": [
    "### Build image\n",
    "Here we create an image used to compile the Cirrus workers executables."
   ]
  },
  {
   "cell_type": "code",
   "execution_count": null,
   "metadata": {},
   "outputs": [
    {
     "name": "stdout",
     "output_type": "stream",
     "text": [
      "[make_amazon_build_image |      MainThread] Deleting any existing images with the same name.\n",
      "[   delete_images |      MainThread] Describing images.\n",
      "[   delete_images |      MainThread] Deleting image ami-0677ce11803b154f5.\n",
      "[   delete_images |      MainThread] Done.\n",
      "[make_amazon_build_image |      MainThread] Launching an instance.\n",
      "[        __init__ |      MainThread] Done.\n",
      "[         _exists |      MainThread] Listing instances.\n",
      "[         _exists |      MainThread] No existing instance with the same name was found.\n",
      "[ _start_and_wait |      MainThread] Starting a new instance.\n",
      "[ _start_and_wait |      MainThread] Waiting for instance to enter running state.\n",
      "[ _start_and_wait |      MainThread] Fetching instance metadata.\n",
      "[ _start_and_wait |      MainThread] Done.\n",
      "[           start |      MainThread] Done.\n",
      "[make_amazon_build_image |      MainThread] Setting up the environment.\n",
      "[     run_command |      MainThread] Calling _connect_ssh.\n",
      "[    _connect_ssh |      MainThread] Configuring.\n",
      "[    _connect_ssh |      MainThread] Making connection attempt #1 out of 35.\n",
      "[    _connect_ssh |      MainThread] Connection attempt timed out after 3s.\n",
      "[    _connect_ssh |      MainThread] Making connection attempt #2 out of 35.\n",
      "[    _connect_ssh |      MainThread] Connection attempt failed. Sleeping for 3s.\n",
      "[    _connect_ssh |      MainThread] Making connection attempt #3 out of 35.\n",
      "[    _connect_ssh |      MainThread] Connection attempt failed. Sleeping for 3s.\n"
     ]
    }
   ],
   "source": [
    "automate.make_amazon_build_image(\"cirrus_amazon_build_image\")"
   ]
  },
  {
   "cell_type": "markdown",
   "metadata": {},
   "source": [
    "### Executables\n",
    "Here we compile the lambda workers executables."
   ]
  },
  {
   "cell_type": "code",
   "execution_count": 12,
   "metadata": {},
   "outputs": [
    {
     "name": "stdout",
     "output_type": "stream",
     "text": [
      "[make_executables |      MainThread] Launching an instance.\n",
      "[make_executables |      MainThread] Launching an instance.\n",
      "[        __init__ |      MainThread] Resolving AMI owner/name to AMI ID.\n",
      "[        __init__ |      MainThread] Resolving AMI owner/name to AMI ID.\n",
      "[        __init__ |      MainThread] Done.\n",
      "[        __init__ |      MainThread] Done.\n",
      "[         _exists |      MainThread] Listing instances.\n",
      "[         _exists |      MainThread] Listing instances.\n",
      "[         _exists |      MainThread] No existing instance with the same name was found.\n",
      "[         _exists |      MainThread] No existing instance with the same name was found.\n",
      "[ _start_and_wait |      MainThread] Starting a new instance.\n",
      "[ _start_and_wait |      MainThread] Starting a new instance.\n",
      "[ _start_and_wait |      MainThread] Waiting for instance to enter running state.\n",
      "[ _start_and_wait |      MainThread] Waiting for instance to enter running state.\n"
     ]
    },
    {
     "ename": "KeyboardInterrupt",
     "evalue": "",
     "output_type": "error",
     "traceback": [
      "\u001b[0;31m---------------------------------------------------------------------------\u001b[0m",
      "\u001b[0;31mKeyboardInterrupt\u001b[0m                         Traceback (most recent call last)",
      "\u001b[0;32m<ipython-input-12-d54395fb5624>\u001b[0m in \u001b[0;36m<module>\u001b[0;34m()\u001b[0m\n\u001b[1;32m      2\u001b[0m     \u001b[0msetup\u001b[0m\u001b[0;34m.\u001b[0m\u001b[0mPUBLISHED_BUILD\u001b[0m \u001b[0;34m+\u001b[0m \u001b[0;34m\"/executables/amazon\"\u001b[0m\u001b[0;34m,\u001b[0m\u001b[0;34m\u001b[0m\u001b[0m\n\u001b[1;32m      3\u001b[0m     \u001b[0;34m(\u001b[0m\u001b[0;34m\"self\"\u001b[0m\u001b[0;34m,\u001b[0m \u001b[0;34m\"cirrus_amazon_build_image\"\u001b[0m\u001b[0;34m)\u001b[0m\u001b[0;34m,\u001b[0m\u001b[0;34m\u001b[0m\u001b[0m\n\u001b[0;32m----> 4\u001b[0;31m     \u001b[0;34m\"ec2-user\"\u001b[0m\u001b[0;34m\u001b[0m\u001b[0m\n\u001b[0m\u001b[1;32m      5\u001b[0m )\n",
      "\u001b[0;32m/home/tkice/anaconda3/envs/cirrus_env_2.7/lib/python2.7/site-packages/cirrus/automate.pyc\u001b[0m in \u001b[0;36mmake_executables\u001b[0;34m(path, image_owner_name, username)\u001b[0m\n\u001b[1;32m    257\u001b[0m                         \u001b[0mtyp\u001b[0m\u001b[0;34m=\u001b[0m\u001b[0mBUILD_INSTANCE_TYPE\u001b[0m\u001b[0;34m,\u001b[0m\u001b[0;34m\u001b[0m\u001b[0m\n\u001b[1;32m    258\u001b[0m                         username=username)\n\u001b[0;32m--> 259\u001b[0;31m     \u001b[0minstance\u001b[0m\u001b[0;34m.\u001b[0m\u001b[0mstart\u001b[0m\u001b[0;34m(\u001b[0m\u001b[0;34m)\u001b[0m\u001b[0;34m\u001b[0m\u001b[0m\n\u001b[0m\u001b[1;32m    260\u001b[0m \u001b[0;34m\u001b[0m\u001b[0m\n\u001b[1;32m    261\u001b[0m     \u001b[0mlog\u001b[0m\u001b[0;34m.\u001b[0m\u001b[0mdebug\u001b[0m\u001b[0;34m(\u001b[0m\u001b[0;34m\"Building Cirrus.\"\u001b[0m\u001b[0;34m)\u001b[0m\u001b[0;34m\u001b[0m\u001b[0m\n",
      "\u001b[0;32m/home/tkice/anaconda3/envs/cirrus_env_2.7/lib/python2.7/site-packages/cirrus/instance.pyc\u001b[0m in \u001b[0;36mstart\u001b[0;34m(self)\u001b[0m\n\u001b[1;32m    366\u001b[0m \u001b[0;34m\u001b[0m\u001b[0m\n\u001b[1;32m    367\u001b[0m         \u001b[0;32mif\u001b[0m \u001b[0;32mnot\u001b[0m \u001b[0mself\u001b[0m\u001b[0;34m.\u001b[0m\u001b[0m_exists\u001b[0m\u001b[0;34m(\u001b[0m\u001b[0;34m)\u001b[0m\u001b[0;34m:\u001b[0m\u001b[0;34m\u001b[0m\u001b[0m\n\u001b[0;32m--> 368\u001b[0;31m             \u001b[0mself\u001b[0m\u001b[0;34m.\u001b[0m\u001b[0m_start_and_wait\u001b[0m\u001b[0;34m(\u001b[0m\u001b[0;34m)\u001b[0m\u001b[0;34m\u001b[0m\u001b[0m\n\u001b[0m\u001b[1;32m    369\u001b[0m             \u001b[0;32mif\u001b[0m \u001b[0mself\u001b[0m\u001b[0;34m.\u001b[0m\u001b[0m_spot_bid\u001b[0m \u001b[0;32mis\u001b[0m \u001b[0;32mnot\u001b[0m \u001b[0mNone\u001b[0m\u001b[0;34m:\u001b[0m\u001b[0;34m\u001b[0m\u001b[0m\n\u001b[1;32m    370\u001b[0m                 \u001b[0mself\u001b[0m\u001b[0;34m.\u001b[0m\u001b[0m_start_termination_monitoring\u001b[0m\u001b[0;34m(\u001b[0m\u001b[0;34m)\u001b[0m\u001b[0;34m\u001b[0m\u001b[0m\n",
      "\u001b[0;32m/home/tkice/anaconda3/envs/cirrus_env_2.7/lib/python2.7/site-packages/cirrus/instance.pyc\u001b[0m in \u001b[0;36m_start_and_wait\u001b[0;34m(self)\u001b[0m\n\u001b[1;32m    658\u001b[0m \u001b[0;34m\u001b[0m\u001b[0m\n\u001b[1;32m    659\u001b[0m         \u001b[0mself\u001b[0m\u001b[0;34m.\u001b[0m\u001b[0m_log\u001b[0m\u001b[0;34m.\u001b[0m\u001b[0mdebug\u001b[0m\u001b[0;34m(\u001b[0m\u001b[0;34m\"Waiting for instance to enter running state.\"\u001b[0m\u001b[0;34m)\u001b[0m\u001b[0;34m\u001b[0m\u001b[0m\n\u001b[0;32m--> 660\u001b[0;31m         \u001b[0mself\u001b[0m\u001b[0;34m.\u001b[0m\u001b[0m_wait_until_state\u001b[0m\u001b[0;34m(\u001b[0m\u001b[0;34m\"running\"\u001b[0m\u001b[0;34m)\u001b[0m\u001b[0;34m\u001b[0m\u001b[0m\n\u001b[0m\u001b[1;32m    661\u001b[0m \u001b[0;34m\u001b[0m\u001b[0m\n\u001b[1;32m    662\u001b[0m         \u001b[0mself\u001b[0m\u001b[0;34m.\u001b[0m\u001b[0m_log\u001b[0m\u001b[0;34m.\u001b[0m\u001b[0mdebug\u001b[0m\u001b[0;34m(\u001b[0m\u001b[0;34m\"Fetching instance metadata.\"\u001b[0m\u001b[0;34m)\u001b[0m\u001b[0;34m\u001b[0m\u001b[0m\n",
      "\u001b[0;32m/home/tkice/anaconda3/envs/cirrus_env_2.7/lib/python2.7/site-packages/cirrus/instance.pyc\u001b[0m in \u001b[0;36m_wait_until_state\u001b[0;34m(self, state)\u001b[0m\n\u001b[1;32m    683\u001b[0m             \u001b[0;32mif\u001b[0m \u001b[0mself\u001b[0m\u001b[0;34m.\u001b[0m\u001b[0minstance\u001b[0m\u001b[0;34m.\u001b[0m\u001b[0mstate\u001b[0m\u001b[0;34m[\u001b[0m\u001b[0;34m\"Name\"\u001b[0m\u001b[0;34m]\u001b[0m \u001b[0;34m==\u001b[0m \u001b[0mstate\u001b[0m\u001b[0;34m:\u001b[0m\u001b[0;34m\u001b[0m\u001b[0m\n\u001b[1;32m    684\u001b[0m                 \u001b[0;32mbreak\u001b[0m\u001b[0;34m\u001b[0m\u001b[0m\n\u001b[0;32m--> 685\u001b[0;31m             \u001b[0mtime\u001b[0m\u001b[0;34m.\u001b[0m\u001b[0msleep\u001b[0m\u001b[0;34m(\u001b[0m\u001b[0mself\u001b[0m\u001b[0;34m.\u001b[0m\u001b[0m_RUNNING_POLL_INTERVAL\u001b[0m\u001b[0;34m)\u001b[0m\u001b[0;34m\u001b[0m\u001b[0m\n\u001b[0m\u001b[1;32m    686\u001b[0m         \u001b[0;32melse\u001b[0m\u001b[0;34m:\u001b[0m\u001b[0;34m\u001b[0m\u001b[0m\n\u001b[1;32m    687\u001b[0m             raise RuntimeError(\"Timed out waiting for instance to enter \"\n",
      "\u001b[0;31mKeyboardInterrupt\u001b[0m: "
     ]
    }
   ],
   "source": [
    "automate.make_executables(\n",
    "    setup.PUBLISHED_BUILD + \"/executables/amazon\",\n",
    "    (\"self\", \"cirrus_amazon_build_image\"),\n",
    "    \"ec2-user\"\n",
    ")"
   ]
  },
  {
   "cell_type": "markdown",
   "metadata": {},
   "source": [
    "# Cleanup\n",
    "---\n",
    "If a cell errors, running this should clean up any resources that were created. After running this cell, the kernel will become unusable and need to be restarted."
   ]
  },
  {
   "cell_type": "code",
   "execution_count": null,
   "metadata": {},
   "outputs": [],
   "source": [
    "atexit._run_exitfuncs()"
   ]
  }
 ],
 "metadata": {
  "kernelspec": {
   "display_name": "Python 2",
   "language": "python",
   "name": "python2"
  },
  "language_info": {
   "codemirror_mode": {
    "name": "ipython",
    "version": 2
   },
   "file_extension": ".py",
   "mimetype": "text/x-python",
   "name": "python",
   "nbconvert_exporter": "python",
   "pygments_lexer": "ipython2",
   "version": "2.7.18"
  }
 },
 "nbformat": 4,
 "nbformat_minor": 2
}
